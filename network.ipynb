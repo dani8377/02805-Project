{
 "cells": [
  {
   "cell_type": "markdown",
   "metadata": {},
   "source": [
    "### How to name the lyric file ?\n",
    "```\n",
    "def safe_filename(filename):\n",
    "    return re.sub(r'[<>:\"/\\\\|?*]', '_', filename)\n",
    "```\n",
    "\n",
    "```\n",
    " file_path = f'lyrics/{safe_filename(row[\"Album Name\"])}_{safe_filename(row[\"Artist Name\"])}_{safe_filename(row[\"Title\"])}.txt'\n",
    "```"
   ]
  },
  {
   "cell_type": "code",
   "execution_count": 1,
   "metadata": {},
   "outputs": [],
   "source": [
    "import pandas as pd\n",
    "import numpy as np\n",
    "import matplotlib.pyplot as plt\n",
    "import seaborn as sns\n",
    "import os\n",
    "\n",
    "# collect and clean all genres for each album\n",
    "albums_genres = {}\n",
    "for year in range(1960, 2024):\n",
    "    df = pd.read_csv(f'songs_lyrics/top100_albums_{year}_songs.csv')\n",
    "    df['Recording Genres'] = df['Recording Genres'].apply(lambda x: x.split(', ')) # Convert string to list\n",
    "    df['Recording Genres'] = df['Recording Genres'].apply(lambda x: [genre for genre in x if genre!= 'Unknown'] if isinstance(x, list) else x)# Remove 'Unknown' genre\n",
    "    df = df[df['Recording Genres'].apply(lambda x: x != [])]# Remove empty lists\n",
    "\n",
    "    \n",
    "    for album_name in df['Album Name'].unique():\n",
    "        genres = df[df['Album Name'] == album_name]['Recording Genres']# Get all genres for the album\n",
    "        genres = [genre for sublist in genres for genre in sublist]\n",
    "        albums_genres[album_name] = set(genres)# Remove duplicates and convert to dictionary "
   ]
  },
  {
   "cell_type": "code",
   "execution_count": 4,
   "metadata": {},
   "outputs": [
    {
     "name": "stderr",
     "output_type": "stream",
     "text": [
      "Values less than or equal to 0 in data. Throwing out 0 or negative values\n"
     ]
    },
    {
     "name": "stdout",
     "output_type": "stream",
     "text": [
      "Calculating best minimal value for power law fit\n",
      "Threshold: 0.2 99%\n",
      "Alpha (power law): 9.231406494621472\n",
      "Number of nodes: 3849\n",
      "Number of edges: 506472\n",
      "Average degree: 263.1706936866719\n",
      "Number of connected components: 55\n"
     ]
    },
    {
     "name": "stderr",
     "output_type": "stream",
     "text": [
      "Values less than or equal to 0 in data. Throwing out 0 or negative values\n"
     ]
    },
    {
     "name": "stdout",
     "output_type": "stream",
     "text": [
      "Calculating best minimal value for power law fit\n",
      "Threshold: 0.3 99%\n",
      "Alpha (power law): 2.6085038179568434\n",
      "Number of nodes: 3849\n",
      "Number of edges: 155558\n",
      "Average degree: 80.83034554429722\n",
      "Number of connected components: 161\n"
     ]
    },
    {
     "name": "stderr",
     "output_type": "stream",
     "text": [
      "Values less than or equal to 0 in data. Throwing out 0 or negative values\n"
     ]
    },
    {
     "name": "stdout",
     "output_type": "stream",
     "text": [
      "Calculating best minimal value for power law fit\n",
      "Threshold: 0.4 99%\n",
      "Alpha (power law): 2.211908697996863\n",
      "Number of nodes: 3849\n",
      "Number of edges: 44930\n",
      "Average degree: 23.34632372044687\n",
      "Number of connected components: 620\n"
     ]
    },
    {
     "name": "stderr",
     "output_type": "stream",
     "text": [
      "Values less than or equal to 0 in data. Throwing out 0 or negative values\n"
     ]
    },
    {
     "name": "stdout",
     "output_type": "stream",
     "text": [
      "Calculating best minimal value for power law fit\n",
      "Threshold: 0.5 98%\n",
      "Alpha (power law): 2.4403191907341717\n",
      "Number of nodes: 3849\n",
      "Number of edges: 11497\n",
      "Average degree: 5.974019225772928\n",
      "Number of connected components: 1664\n",
      "Calculating best minimal value for power law fit\n",
      "Threshold: 0.6 97%\n",
      "Alpha (power law): 2.286321044219643\n",
      "Number of nodes: 3849\n",
      "Number of edges: 4951\n",
      "Average degree: 2.572616263964666\n",
      "Number of connected components: 2450\n"
     ]
    },
    {
     "name": "stderr",
     "output_type": "stream",
     "text": [
      "Values less than or equal to 0 in data. Throwing out 0 or negative values\n"
     ]
    }
   ],
   "source": [
    "# find the suitbable threshold\n",
    "import networkx as nx\n",
    "import powerlaw\n",
    "\n",
    "def jaccard_similarity(set1, set2):\n",
    "    return len(set1 & set2) / len(set1 | set2)\n",
    "\n",
    "thresholds = [0.2, 0.3, 0.4, 0.5, 0.6]\n",
    "\n",
    "for threshold in thresholds:\n",
    "    G = nx.Graph()\n",
    "    for album in albums_genres.keys():  # add nodes\n",
    "        G.add_node(album)  \n",
    "\n",
    "    album_list = list(albums_genres.keys())\n",
    "    for i in range(len(album_list)):\n",
    "        for j in range(i + 1, len(album_list)):\n",
    "            album1, album2 = album_list[i], album_list[j]\n",
    "            similarity = jaccard_similarity(albums_genres[album1], albums_genres[album2])# Calculate Jaccard similarity\n",
    "            if similarity > threshold:\n",
    "                G.add_edge(album1, album2, weight=similarity)\n",
    "    \n",
    "    G_undirected = G.to_undirected()# Convert to undirected graph\n",
    "    degrees = [d for n, d in G_undirected.degree()] # Get the degree of each node\n",
    "    fit = powerlaw.Fit(degrees) # Fit the degree distribution to a power law\n",
    "\n",
    "    #print the statistics information          \n",
    "    print(f\"Threshold: {threshold}\")\n",
    "    print(f\"Alpha (power law): {fit.alpha}\")\n",
    "    print(f\"Number of nodes: {G_undirected.number_of_nodes()}\")\n",
    "    print(f\"Number of edges: {G_undirected.number_of_edges()}\")\n",
    "    print(f\"Average degree: {sum(dict(G_undirected.degree()).values()) / G_undirected.number_of_nodes()}\")\n",
    "    print(f\"Number of connected components: {nx.number_connected_components(G_undirected)}\")"
   ]
  },
  {
   "cell_type": "code",
   "execution_count": 5,
   "metadata": {},
   "outputs": [],
   "source": [
    "# based on the statistics information, we choose the threshold as 0.4 and build the network\n",
    "G = nx.Graph()\n",
    "for album in albums_genres.keys():  #add nodes\n",
    "    G.add_node(album)  \n",
    "\n",
    "# add edges\n",
    "threshold = 0.4  # threshold\n",
    "album_list = list(albums_genres.keys())\n",
    "for i in range(len(album_list)):\n",
    "    for j in range(i + 1, len(album_list)):\n",
    "        album1, album2 = album_list[i], album_list[j]\n",
    "        similarity = jaccard_similarity(albums_genres[album1], albums_genres[album2])\n",
    "        if similarity > threshold:\n",
    "            G.add_edge(album1, album2, weight=similarity)"
   ]
  },
  {
   "cell_type": "code",
   "execution_count": 6,
   "metadata": {},
   "outputs": [
    {
     "data": {
      "image/png": "[encoded data removed]",
      "text/plain": [
       "<Figure size 800x600 with 1 Axes>"
      ]
     },
     "metadata": {},
     "output_type": "display_data"
    }
   ],
   "source": [
    "from collections import Counter\n",
    "# draw the degree distribution\n",
    "G_undirected = G.to_undirected()\n",
    "degrees = [d for n, d in G_undirected.degree()]\n",
    "# calculate the degree distribution\n",
    "degree_count = Counter(degrees)\n",
    "# exact the degree and the number of nodes\n",
    "deg, cnt = zip(*degree_count.items())\n",
    "# log-log plot\n",
    "plt.figure(figsize=(8, 6))\n",
    "plt.scatter(deg, cnt, color='red', alpha=0.7)\n",
    "plt.xscale('log')\n",
    "plt.yscale('log')\n",
    "plt.xlabel('Log(Degree)')\n",
    "plt.ylabel('Log(Number of Nodes)')\n",
    "plt.title('Log-Log Degree Distribution')\n",
    "plt.show()"
   ]
  },
  {
   "cell_type": "code",
   "execution_count": null,
   "metadata": {},
   "outputs": [],
   "source": []
  }
 ],
 "metadata": {
  "kernelspec": {
   "display_name": "myenv",
   "language": "python",
   "name": "python3"
  },
  "language_info": {
   "codemirror_mode": {
    "name": "ipython",
    "version": 3
   },
   "file_extension": ".py",
   "mimetype": "text/x-python",
   "name": "python",
   "nbconvert_exporter": "python",
   "pygments_lexer": "ipython3",
   "version": "3.9.11"
  }
 },
 "nbformat": 4,
 "nbformat_minor": 2
}
